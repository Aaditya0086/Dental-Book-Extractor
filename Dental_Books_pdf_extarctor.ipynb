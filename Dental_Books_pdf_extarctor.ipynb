{
  "nbformat": 4,
  "nbformat_minor": 0,
  "metadata": {
    "colab": {
      "provenance": [],
      "gpuType": "T4",
      "authorship_tag": "ABX9TyOHObQoTJ0Uzhy2K8coewkv",
      "include_colab_link": true
    },
    "kernelspec": {
      "name": "python3",
      "display_name": "Python 3"
    },
    "language_info": {
      "name": "python"
    },
    "accelerator": "GPU"
  },
  "cells": [
    {
      "cell_type": "markdown",
      "metadata": {
        "id": "view-in-github",
        "colab_type": "text"
      },
      "source": [
        "<a href=\"https://colab.research.google.com/github/Aaditya0086/Dental-Book-Extractor/blob/main/Dental_Books_pdf_extarctor.ipynb\" target=\"_parent\"><img src=\"https://colab.research.google.com/assets/colab-badge.svg\" alt=\"Open In Colab\"/></a>"
      ]
    },
    {
      "cell_type": "code",
      "execution_count": null,
      "metadata": {
        "colab": {
          "base_uri": "https://localhost:8080/"
        },
        "id": "znMQuBahDHoa",
        "outputId": "67f9fd80-7121-4fdb-ba59-bb5e47d1b3ca"
      },
      "outputs": [
        {
          "output_type": "stream",
          "name": "stdout",
          "text": [
            "Requirement already satisfied: requests in /usr/local/lib/python3.10/dist-packages (2.32.3)\n",
            "Requirement already satisfied: Pillow in /usr/local/lib/python3.10/dist-packages (10.4.0)\n",
            "Requirement already satisfied: charset-normalizer<4,>=2 in /usr/local/lib/python3.10/dist-packages (from requests) (3.4.0)\n",
            "Requirement already satisfied: idna<4,>=2.5 in /usr/local/lib/python3.10/dist-packages (from requests) (3.10)\n",
            "Requirement already satisfied: urllib3<3,>=1.21.1 in /usr/local/lib/python3.10/dist-packages (from requests) (2.2.3)\n",
            "Requirement already satisfied: certifi>=2017.4.17 in /usr/local/lib/python3.10/dist-packages (from requests) (2024.8.30)\n"
          ]
        }
      ],
      "source": [
        "# Install requests and Pillow (PIL)\n",
        "!pip install requests Pillow\n"
      ]
    },
    {
      "cell_type": "code",
      "source": [
        "import requests\n",
        "import os\n",
        "\n",
        "# URL of the image to be downloaded\n",
        "# image_url = \"https://image.slidesharecdn.com/castingalloysbp-200331155134/75/Dental-Casting-alloys-DENTAL-MATERIALS-1-2048.jpg 2048w\" //find image source from page source and find no of slides.\n",
        "\n",
        "# Folder where images will be saved (create the folder if necessary)\n",
        "save_folder = \"./images/\"\n",
        "\n",
        "# Create the save_folder directory if it doesn't exist\n",
        "if not os.path.exists(save_folder):\n",
        "    os.makedirs(save_folder)\n",
        "\n",
        "# List to hold image paths for combining later\n",
        "image_paths = []\n",
        "\n",
        "# Loop to download the image 70 times\n",
        "for i in range(1, 48):\n",
        "    # Request the image from the URL\n",
        "    image_url = f\"https://image.slidesharecdn.com/spaceinfections-200717163419/75/Maxillofacial-space-infections-{i}-2048.jpg\"\n",
        "    response = requests.get(image_url)\n",
        "\n",
        "    # Ensure the request was successful\n",
        "    if response.status_code == 200:\n",
        "        # Save the image with a unique name\n",
        "        image_name = f\"image_{i}.jpg\"\n",
        "        image_path = save_folder + image_name\n",
        "\n",
        "        with open(image_path, 'wb') as file:\n",
        "            file.write(response.content)\n",
        "\n",
        "        print(f\"Downloaded: {image_name}\")\n",
        "        image_paths.append(image_path)  # Store the image path\n",
        "    else:\n",
        "        print(f\"Failed to download image at attempt {i}\")\n",
        "\n",
        "print(\"All images downloaded.\")\n"
      ],
      "metadata": {
        "colab": {
          "base_uri": "https://localhost:8080/"
        },
        "id": "E5ltHpv6DWfd",
        "outputId": "60b6f80e-be7a-4596-a10a-e725caa0e2be"
      },
      "execution_count": null,
      "outputs": [
        {
          "output_type": "stream",
          "name": "stdout",
          "text": [
            "Downloaded: image_1.jpg\n",
            "Downloaded: image_2.jpg\n",
            "Downloaded: image_3.jpg\n",
            "Downloaded: image_4.jpg\n",
            "Downloaded: image_5.jpg\n",
            "Downloaded: image_6.jpg\n",
            "Downloaded: image_7.jpg\n",
            "Downloaded: image_8.jpg\n",
            "Downloaded: image_9.jpg\n",
            "Downloaded: image_10.jpg\n",
            "Downloaded: image_11.jpg\n",
            "Downloaded: image_12.jpg\n",
            "Downloaded: image_13.jpg\n",
            "Downloaded: image_14.jpg\n",
            "Downloaded: image_15.jpg\n",
            "Downloaded: image_16.jpg\n",
            "Downloaded: image_17.jpg\n",
            "Downloaded: image_18.jpg\n",
            "Downloaded: image_19.jpg\n",
            "Downloaded: image_20.jpg\n",
            "Downloaded: image_21.jpg\n",
            "Downloaded: image_22.jpg\n",
            "Downloaded: image_23.jpg\n",
            "Downloaded: image_24.jpg\n",
            "Downloaded: image_25.jpg\n",
            "Downloaded: image_26.jpg\n",
            "Downloaded: image_27.jpg\n",
            "Downloaded: image_28.jpg\n",
            "Downloaded: image_29.jpg\n",
            "Downloaded: image_30.jpg\n",
            "Downloaded: image_31.jpg\n",
            "Downloaded: image_32.jpg\n",
            "Downloaded: image_33.jpg\n",
            "Downloaded: image_34.jpg\n",
            "Downloaded: image_35.jpg\n",
            "Downloaded: image_36.jpg\n",
            "Downloaded: image_37.jpg\n",
            "Downloaded: image_38.jpg\n",
            "Downloaded: image_39.jpg\n",
            "Downloaded: image_40.jpg\n",
            "Downloaded: image_41.jpg\n",
            "Downloaded: image_42.jpg\n",
            "Downloaded: image_43.jpg\n",
            "Downloaded: image_44.jpg\n",
            "Downloaded: image_45.jpg\n",
            "Downloaded: image_46.jpg\n",
            "Downloaded: image_47.jpg\n",
            "All images downloaded.\n"
          ]
        }
      ]
    },
    {
      "cell_type": "code",
      "source": [
        "from PIL import Image\n",
        "\n",
        "# Path for the final PDF\n",
        "pdf_path = save_folder + \"combined_images.pdf\"\n",
        "\n",
        "# Open each image and convert to RGB (required by PDF)\n",
        "image_list = []\n",
        "for image_path in image_paths:\n",
        "    img = Image.open(image_path)\n",
        "    if img.mode != 'RGB':\n",
        "        img = img.convert('RGB')  # Convert to RGB if not already\n",
        "    image_list.append(img)\n",
        "\n",
        "# Save all images to a single PDF file\n",
        "if image_list:\n",
        "    image_list[0].save(pdf_path, save_all=True, append_images=image_list[1:])\n",
        "\n",
        "print(f\"PDF created successfully: {pdf_path}\")\n"
      ],
      "metadata": {
        "colab": {
          "base_uri": "https://localhost:8080/"
        },
        "id": "dtJ90tjWDZVd",
        "outputId": "4d2eaa35-3589-42a4-9091-da964261d485"
      },
      "execution_count": null,
      "outputs": [
        {
          "output_type": "stream",
          "name": "stdout",
          "text": [
            "PDF created successfully: ./images/combined_images.pdf\n"
          ]
        }
      ]
    },
    {
      "cell_type": "code",
      "source": [
        "from google.colab import files\n",
        "\n",
        "# Download the combined PDF\n",
        "files.download(pdf_path)\n"
      ],
      "metadata": {
        "colab": {
          "base_uri": "https://localhost:8080/",
          "height": 34
        },
        "id": "nYn9NggVDcJN",
        "outputId": "f3f018ed-3d41-427a-9b70-ca0042dcddf8"
      },
      "execution_count": null,
      "outputs": [
        {
          "output_type": "display_data",
          "data": {
            "text/plain": [
              "<IPython.core.display.Javascript object>"
            ],
            "application/javascript": [
              "\n",
              "    async function download(id, filename, size) {\n",
              "      if (!google.colab.kernel.accessAllowed) {\n",
              "        return;\n",
              "      }\n",
              "      const div = document.createElement('div');\n",
              "      const label = document.createElement('label');\n",
              "      label.textContent = `Downloading \"${filename}\": `;\n",
              "      div.appendChild(label);\n",
              "      const progress = document.createElement('progress');\n",
              "      progress.max = size;\n",
              "      div.appendChild(progress);\n",
              "      document.body.appendChild(div);\n",
              "\n",
              "      const buffers = [];\n",
              "      let downloaded = 0;\n",
              "\n",
              "      const channel = await google.colab.kernel.comms.open(id);\n",
              "      // Send a message to notify the kernel that we're ready.\n",
              "      channel.send({})\n",
              "\n",
              "      for await (const message of channel.messages) {\n",
              "        // Send a message to notify the kernel that we're ready.\n",
              "        channel.send({})\n",
              "        if (message.buffers) {\n",
              "          for (const buffer of message.buffers) {\n",
              "            buffers.push(buffer);\n",
              "            downloaded += buffer.byteLength;\n",
              "            progress.value = downloaded;\n",
              "          }\n",
              "        }\n",
              "      }\n",
              "      const blob = new Blob(buffers, {type: 'application/binary'});\n",
              "      const a = document.createElement('a');\n",
              "      a.href = window.URL.createObjectURL(blob);\n",
              "      a.download = filename;\n",
              "      div.appendChild(a);\n",
              "      a.click();\n",
              "      div.remove();\n",
              "    }\n",
              "  "
            ]
          },
          "metadata": {}
        },
        {
          "output_type": "display_data",
          "data": {
            "text/plain": [
              "<IPython.core.display.Javascript object>"
            ],
            "application/javascript": [
              "download(\"download_6a809635-6317-4e58-b16d-69ac3af9ff18\", \"combined_images.pdf\", 12102244)"
            ]
          },
          "metadata": {}
        }
      ]
    }
  ]
}